{
 "cells": [
  {
   "cell_type": "code",
   "execution_count": 1,
   "metadata": {},
   "outputs": [],
   "source": [
    "\n",
    "#from google.colab import drive\n",
    "import pandas as pd\n",
    "import matplotlib.pyplot as plt\n",
    "import seaborn as sns\n",
    "\n",
    "import numpy as np\n",
    "import os\n",
    "from PIL import Image\n",
    "\n",
    "from sklearn.model_selection import train_test_split\n",
    "from imblearn.over_sampling import SMOTE\n",
    "from sklearn.metrics import confusion_matrix\n",
    "\n",
    "import tensorflow as tf\n",
    "from tensorflow.keras.preprocessing.image import ImageDataGenerator\n",
    "from tensorflow.keras.applications import ResNet50, VGG16, InceptionV3\n",
    "from tensorflow.keras.layers import Dense, GlobalAveragePooling2D, Dropout, Flatten\n",
    "from tensorflow.keras.models import Model\n",
    "from tensorflow.keras.callbacks import EarlyStopping, LearningRateScheduler\n",
    "from tensorflow.keras.optimizers.legacy import Adam\n",
    "from keras.metrics import AUC"
   ]
  },
  {
   "cell_type": "code",
   "execution_count": 2,
   "metadata": {},
   "outputs": [
    {
     "data": {
      "text/html": [
       "<div>\n",
       "<style scoped>\n",
       "    .dataframe tbody tr th:only-of-type {\n",
       "        vertical-align: middle;\n",
       "    }\n",
       "\n",
       "    .dataframe tbody tr th {\n",
       "        vertical-align: top;\n",
       "    }\n",
       "\n",
       "    .dataframe thead th {\n",
       "        text-align: right;\n",
       "    }\n",
       "</style>\n",
       "<table border=\"1\" class=\"dataframe\">\n",
       "  <thead>\n",
       "    <tr style=\"text-align: right;\">\n",
       "      <th></th>\n",
       "      <th>patient_id</th>\n",
       "      <th>image_id</th>\n",
       "      <th>laterality</th>\n",
       "      <th>view</th>\n",
       "      <th>age</th>\n",
       "      <th>implant</th>\n",
       "      <th>path</th>\n",
       "      <th>cancer</th>\n",
       "    </tr>\n",
       "  </thead>\n",
       "  <tbody>\n",
       "    <tr>\n",
       "      <th>0</th>\n",
       "      <td>10006</td>\n",
       "      <td>462822612</td>\n",
       "      <td>0</td>\n",
       "      <td>1</td>\n",
       "      <td>61.0</td>\n",
       "      <td>0</td>\n",
       "      <td>/kaggle/input/rsna-breast-cancer-detection/tra...</td>\n",
       "      <td>0</td>\n",
       "    </tr>\n",
       "    <tr>\n",
       "      <th>1</th>\n",
       "      <td>10006</td>\n",
       "      <td>1459541791</td>\n",
       "      <td>0</td>\n",
       "      <td>5</td>\n",
       "      <td>61.0</td>\n",
       "      <td>0</td>\n",
       "      <td>/kaggle/input/rsna-breast-cancer-detection/tra...</td>\n",
       "      <td>0</td>\n",
       "    </tr>\n",
       "    <tr>\n",
       "      <th>2</th>\n",
       "      <td>10006</td>\n",
       "      <td>1864590858</td>\n",
       "      <td>1</td>\n",
       "      <td>5</td>\n",
       "      <td>61.0</td>\n",
       "      <td>0</td>\n",
       "      <td>/kaggle/input/rsna-breast-cancer-detection/tra...</td>\n",
       "      <td>0</td>\n",
       "    </tr>\n",
       "    <tr>\n",
       "      <th>3</th>\n",
       "      <td>10006</td>\n",
       "      <td>1874946579</td>\n",
       "      <td>1</td>\n",
       "      <td>1</td>\n",
       "      <td>61.0</td>\n",
       "      <td>0</td>\n",
       "      <td>/kaggle/input/rsna-breast-cancer-detection/tra...</td>\n",
       "      <td>0</td>\n",
       "    </tr>\n",
       "    <tr>\n",
       "      <th>4</th>\n",
       "      <td>10011</td>\n",
       "      <td>220375232</td>\n",
       "      <td>0</td>\n",
       "      <td>1</td>\n",
       "      <td>55.0</td>\n",
       "      <td>0</td>\n",
       "      <td>/kaggle/input/rsna-breast-cancer-detection/tra...</td>\n",
       "      <td>0</td>\n",
       "    </tr>\n",
       "    <tr>\n",
       "      <th>...</th>\n",
       "      <td>...</td>\n",
       "      <td>...</td>\n",
       "      <td>...</td>\n",
       "      <td>...</td>\n",
       "      <td>...</td>\n",
       "      <td>...</td>\n",
       "      <td>...</td>\n",
       "      <td>...</td>\n",
       "    </tr>\n",
       "    <tr>\n",
       "      <th>54701</th>\n",
       "      <td>9973</td>\n",
       "      <td>1729524723</td>\n",
       "      <td>1</td>\n",
       "      <td>5</td>\n",
       "      <td>43.0</td>\n",
       "      <td>0</td>\n",
       "      <td>/kaggle/input/rsna-breast-cancer-detection/tra...</td>\n",
       "      <td>0</td>\n",
       "    </tr>\n",
       "    <tr>\n",
       "      <th>54702</th>\n",
       "      <td>9989</td>\n",
       "      <td>63473691</td>\n",
       "      <td>0</td>\n",
       "      <td>5</td>\n",
       "      <td>60.0</td>\n",
       "      <td>0</td>\n",
       "      <td>/kaggle/input/rsna-breast-cancer-detection/tra...</td>\n",
       "      <td>0</td>\n",
       "    </tr>\n",
       "    <tr>\n",
       "      <th>54703</th>\n",
       "      <td>9989</td>\n",
       "      <td>1078943060</td>\n",
       "      <td>0</td>\n",
       "      <td>1</td>\n",
       "      <td>60.0</td>\n",
       "      <td>0</td>\n",
       "      <td>/kaggle/input/rsna-breast-cancer-detection/tra...</td>\n",
       "      <td>0</td>\n",
       "    </tr>\n",
       "    <tr>\n",
       "      <th>54704</th>\n",
       "      <td>9989</td>\n",
       "      <td>398038886</td>\n",
       "      <td>1</td>\n",
       "      <td>5</td>\n",
       "      <td>60.0</td>\n",
       "      <td>0</td>\n",
       "      <td>/kaggle/input/rsna-breast-cancer-detection/tra...</td>\n",
       "      <td>0</td>\n",
       "    </tr>\n",
       "    <tr>\n",
       "      <th>54705</th>\n",
       "      <td>9989</td>\n",
       "      <td>439796429</td>\n",
       "      <td>1</td>\n",
       "      <td>1</td>\n",
       "      <td>60.0</td>\n",
       "      <td>0</td>\n",
       "      <td>/kaggle/input/rsna-breast-cancer-detection/tra...</td>\n",
       "      <td>0</td>\n",
       "    </tr>\n",
       "  </tbody>\n",
       "</table>\n",
       "<p>54706 rows × 8 columns</p>\n",
       "</div>"
      ],
      "text/plain": [
       "       patient_id    image_id  laterality  view   age  implant  \\\n",
       "0           10006   462822612           0     1  61.0        0   \n",
       "1           10006  1459541791           0     5  61.0        0   \n",
       "2           10006  1864590858           1     5  61.0        0   \n",
       "3           10006  1874946579           1     1  61.0        0   \n",
       "4           10011   220375232           0     1  55.0        0   \n",
       "...           ...         ...         ...   ...   ...      ...   \n",
       "54701        9973  1729524723           1     5  43.0        0   \n",
       "54702        9989    63473691           0     5  60.0        0   \n",
       "54703        9989  1078943060           0     1  60.0        0   \n",
       "54704        9989   398038886           1     5  60.0        0   \n",
       "54705        9989   439796429           1     1  60.0        0   \n",
       "\n",
       "                                                    path  cancer  \n",
       "0      /kaggle/input/rsna-breast-cancer-detection/tra...       0  \n",
       "1      /kaggle/input/rsna-breast-cancer-detection/tra...       0  \n",
       "2      /kaggle/input/rsna-breast-cancer-detection/tra...       0  \n",
       "3      /kaggle/input/rsna-breast-cancer-detection/tra...       0  \n",
       "4      /kaggle/input/rsna-breast-cancer-detection/tra...       0  \n",
       "...                                                  ...     ...  \n",
       "54701  /kaggle/input/rsna-breast-cancer-detection/tra...       0  \n",
       "54702  /kaggle/input/rsna-breast-cancer-detection/tra...       0  \n",
       "54703  /kaggle/input/rsna-breast-cancer-detection/tra...       0  \n",
       "54704  /kaggle/input/rsna-breast-cancer-detection/tra...       0  \n",
       "54705  /kaggle/input/rsna-breast-cancer-detection/tra...       0  \n",
       "\n",
       "[54706 rows x 8 columns]"
      ]
     },
     "execution_count": 2,
     "metadata": {},
     "output_type": "execute_result"
    }
   ],
   "source": [
    "df_helper = pd.read_csv('/Users/dezmon/Library/Mobile Documents/com~apple~CloudDocs/Deep Learning_AI/Final Project/RSNA-256-helper.csv')\n",
    "\n",
    "df_helper"
   ]
  },
  {
   "cell_type": "code",
   "execution_count": 3,
   "metadata": {},
   "outputs": [],
   "source": [
    "# Load the directory containing the images\n",
    "image_directory = '/Users/dezmon/Library/Mobile Documents/com~apple~CloudDocs/Deep Learning_AI/Final Project/RSNA-516/'\n",
    "image_sizes = []\n",
    "image_paths = []\n",
    "# Iterate over each image in the directory\n",
    "for image_name in os.listdir(image_directory):\n",
    "    if image_name.lower().endswith(('.png', '.jpg', '.jpeg', '.bmp', '.gif', '.tif', '.tiff')):\n",
    "        image_path = os.path.join(image_directory, image_name)\n",
    "        image = Image.open(image_path)\n",
    "        image_sizes.append(image.size)  # Store image size (width, height)\n",
    "        image_paths.append(image_path)\n",
    "\n",
    "# Convert to numpy array for analysis\n",
    "image_sizes = np.array(image_sizes)"
   ]
  },
  {
   "cell_type": "code",
   "execution_count": 4,
   "metadata": {},
   "outputs": [],
   "source": [
    "# Construct the image_path column dynamically\n",
    "df_helper['image_path'] = '/Users/dezmon/Library/Mobile Documents/com~apple~CloudDocs/Deep Learning_AI/Final Project/RSNA-516/' + df_helper['patient_id'].astype(str) + '_' + df_helper['image_id'].astype(str) + '.png'\n",
    "# Getting Neccessary Files\n",
    "df = df_helper[['image_path', 'cancer']]"
   ]
  },
  {
   "cell_type": "code",
   "execution_count": 5,
   "metadata": {},
   "outputs": [
    {
     "name": "stdout",
     "output_type": "stream",
     "text": [
      "cancer\n",
      "1    1158\n",
      "0    1158\n",
      "Name: count, dtype: int64\n"
     ]
    },
    {
     "data": {
      "text/plain": [
       "<Axes: ylabel='count'>"
      ]
     },
     "execution_count": 5,
     "metadata": {},
     "output_type": "execute_result"
    },
    {
     "data": {
      "image/png": "[encoded data removed]",
      "text/plain": [
       "<Figure size 500x500 with 1 Axes>"
      ]
     },
     "metadata": {},
     "output_type": "display_data"
    }
   ],
   "source": [
    "# Get the number of instances with class 1 (cancer)\n",
    "num_cancer = df['cancer'].value_counts()[1]\n",
    "\n",
    "# Get the indices of instances with class 1 (cancer)\n",
    "indexs_cancer = np.array(df[df['cancer'] == 1].index)\n",
    "\n",
    "# Get the indices of instances with class 0 (not cancer)\n",
    "indexs_not_cancer = np.array(df[df['cancer'] == 0].index)\n",
    "\n",
    "# Get indices of instances with class 0 (not cancer) randomly sampled with the same amount as class 1 (cancer)\n",
    "indexs_not_cancer_balanced = np.random.choice(indexs_not_cancer, num_cancer, replace=False)\n",
    "\n",
    "# Concatenate indices of instances with class 0 and 1\n",
    "indexs_balanced = np.concatenate([indexs_cancer, indexs_not_cancer_balanced])\n",
    "\n",
    "# Create a new dataframe with balanced classes\n",
    "df_balanced = df.iloc[indexs_balanced, :]\n",
    "\n",
    "# Check the class distribution after balancing\n",
    "print(df_balanced['cancer'].value_counts())\n",
    "\n",
    "# Plot pie chart to visualize the balanced class distribution\n",
    "df_balanced['cancer'].value_counts().plot.pie(autopct='%.1f%%', figsize=(5, 5))"
   ]
  },
  {
   "cell_type": "code",
   "execution_count": 6,
   "metadata": {},
   "outputs": [],
   "source": [
    "X_train, X_val_test, y_train, y_val_test = train_test_split(df_balanced['image_path'], df_balanced['cancer'], test_size=0.4, random_state=42, stratify = df_balanced['cancer'])\n",
    "X_val, X_test, y_val, y_test = train_test_split(X_val_test, y_val_test, test_size=0.5, random_state=42, stratify=y_val_test)\n"
   ]
  },
  {
   "cell_type": "code",
   "execution_count": 7,
   "metadata": {},
   "outputs": [],
   "source": [
    "# ImageDataGenerator for data augmentation and preprocessing\n",
    "train_datagen = ImageDataGenerator(\n",
    "    rescale=1./255,\n",
    "    #zoom_range=0.4, # Randomly rotate images by up to 40 degrees\n",
    "    brightness_range = [0.8,1.2], # Randomly adjust brightness between 0.8 and 1.2\n",
    "    horizontal_flip=True\n",
    ")\n",
    "val_datagen = ImageDataGenerator(rescale=1./255)\n",
    "test_datagen = ImageDataGenerator(rescale=1./255)\n",
    "\n",
    "# Parameters\n",
    "batch_size = 32\n",
    "target_size = (299, 299)  # InceptionNetV3 input size"
   ]
  },
  {
   "cell_type": "code",
   "execution_count": 8,
   "metadata": {},
   "outputs": [
    {
     "name": "stdout",
     "output_type": "stream",
     "text": [
      "Found 1389 validated image filenames belonging to 2 classes.\n",
      "Found 463 validated image filenames belonging to 2 classes.\n",
      "Found 464 validated image filenames belonging to 2 classes.\n"
     ]
    }
   ],
   "source": [
    "# Flow from DataFrame\n",
    "train_generator = train_datagen.flow_from_dataframe(\n",
    "    dataframe=pd.DataFrame({'image_path': X_train, 'cancer': y_train.astype(str)}),\n",
    "    x_col='image_path',\n",
    "    y_col='cancer',\n",
    "    target_size=target_size,\n",
    "    batch_size=batch_size,\n",
    "    class_mode='binary',\n",
    "    shuffle=True\n",
    ")\n",
    "\n",
    "val_generator = val_datagen.flow_from_dataframe(\n",
    "    dataframe=pd.DataFrame({'image_path': X_val, 'cancer': y_val.astype(str)}),\n",
    "    x_col='image_path',\n",
    "    y_col='cancer',\n",
    "    target_size=target_size,\n",
    "    batch_size=batch_size,\n",
    "    class_mode='binary',\n",
    "    shuffle=False\n",
    ")\n",
    "\n",
    "test_generator = test_datagen.flow_from_dataframe(\n",
    "    dataframe=pd.DataFrame({'image_path': X_test, 'cancer': y_test.astype(str)}),\n",
    "    x_col='image_path',\n",
    "    y_col='cancer',\n",
    "    target_size=target_size,\n",
    "    batch_size=batch_size,\n",
    "    class_mode='binary',\n",
    "    shuffle=False\n",
    ")"
   ]
  },
  {
   "cell_type": "code",
   "execution_count": 9,
   "metadata": {},
   "outputs": [],
   "source": [
    "def plot_learning(history):\n",
    "    tgts = ['loss', 'accuracy']\n",
    "    vtgts = ['val_loss', 'val_accuracy']\n",
    "\n",
    "    for tgt, val_tgt in zip(tgts, vtgts):\n",
    "      plt.figure()\n",
    "      plt.plot(history.history[tgt], label=tgt)\n",
    "      plt.plot(history.history[val_tgt], label=val_tgt)\n",
    "      plt.xlabel('Epoch')\n",
    "      #plt.ylabel(ylab)\n",
    "      plt.legend()\n",
    "      plt.title(f\"Training and validation {tgt}\")"
   ]
  },
  {
   "cell_type": "code",
   "execution_count": 12,
   "metadata": {},
   "outputs": [],
   "source": [
    "# Define early stopping callback\n",
    "early_stopping = EarlyStopping(monitor='val_loss', patience=3, restore_best_weights=True)\n",
    "\n",
    "# Initial learning rate\n",
    "initial_learning_rate = 0.1"
   ]
  },
  {
   "cell_type": "code",
   "execution_count": 13,
   "metadata": {},
   "outputs": [],
   "source": [
    "def create_model2(learning_rate):\n",
    "    # Load InceptionV3 base model with pre-trained weights\n",
    "    inceptionv3_base = InceptionV3(weights='imagenet', include_top=False)\n",
    "\n",
    "    for layer in inceptionv3_base.layers:\n",
    "        if isinstance(layer, tf.keras.layers.BatchNormalization):\n",
    "            layer.trainable = True\n",
    "\n",
    "    # Add custom layers on top of the base model\n",
    "    x = inceptionv3_base.output\n",
    "    x = GlobalAveragePooling2D()(x)\n",
    "    x = Dense(256, activation='relu')(x)\n",
    "    x = Dropout(0.5)(x)\n",
    "    predictions = Dense(1, activation='sigmoid')(x)\n",
    "\n",
    "    # Create the model\n",
    "    model = Model(inputs=inceptionv3_base.input, outputs=predictions)\n",
    "\n",
    "    # Compile the model\n",
    "    optimizer = Adam(learning_rate=learning_rate)\n",
    "    model.compile(optimizer=optimizer, loss='binary_crossentropy', metrics=['accuracy', AUC()])\n",
    "\n",
    "    return model"
   ]
  },
  {
   "cell_type": "code",
   "execution_count": 14,
   "metadata": {},
   "outputs": [
    {
     "name": "stdout",
     "output_type": "stream",
     "text": [
      "Training model with learning rate: 0.001 and batch size: 32\n"
     ]
    },
    {
     "name": "stderr",
     "output_type": "stream",
     "text": [
      "WARNING:absl:At this time, the v2.11+ optimizer `tf.keras.optimizers.Adam` runs slowly on M1/M2 Macs, please use the legacy Keras optimizer instead, located at `tf.keras.optimizers.legacy.Adam`.\n"
     ]
    },
    {
     "name": "stdout",
     "output_type": "stream",
     "text": [
      "Epoch 1/10\n"
     ]
    },
    {
     "name": "stderr",
     "output_type": "stream",
     "text": [
      "2024-05-02 08:42:06.532740: I tensorflow/core/grappler/optimizers/custom_graph_optimizer_registry.cc:117] Plugin optimizer for device_type GPU is enabled.\n",
      "2024-05-02 08:42:07.273031: E tensorflow/core/grappler/optimizers/meta_optimizer.cc:961] model_pruner failed: INVALID_ARGUMENT: Graph does not contain terminal node Adam/AssignAddVariableOp.\n"
     ]
    },
    {
     "name": "stdout",
     "output_type": "stream",
     "text": [
      "44/44 [==============================] - 52s 1s/step - loss: 0.8154 - accuracy: 0.5205 - auc_1: 0.5149 - val_loss: 2632347.0000 - val_accuracy: 0.5011 - val_auc_1: 0.5000\n",
      "Epoch 2/10\n",
      "44/44 [==============================] - 41s 921ms/step - loss: 0.7855 - accuracy: 0.4939 - auc_1: 0.4932 - val_loss: 0.7595 - val_accuracy: 0.5011 - val_auc_1: 0.5000\n",
      "Epoch 3/10\n",
      "44/44 [==============================] - 41s 927ms/step - loss: 0.7521 - accuracy: 0.4831 - auc_1: 0.4764 - val_loss: 2613.0398 - val_accuracy: 0.4989 - val_auc_1: 0.5000\n",
      "Epoch 4/10\n",
      "44/44 [==============================] - 40s 918ms/step - loss: 0.7322 - accuracy: 0.4932 - auc_1: 0.4817 - val_loss: 3.9020 - val_accuracy: 0.5054 - val_auc_1: 0.4997\n",
      "Epoch 5/10\n",
      "44/44 [==============================] - 41s 928ms/step - loss: 0.7185 - accuracy: 0.4831 - auc_1: 0.4822 - val_loss: 1.0583 - val_accuracy: 0.5097 - val_auc_1: 0.5120\n",
      "Training model with learning rate: 0.001 and batch size: 64\n"
     ]
    },
    {
     "name": "stderr",
     "output_type": "stream",
     "text": [
      "WARNING:absl:At this time, the v2.11+ optimizer `tf.keras.optimizers.Adam` runs slowly on M1/M2 Macs, please use the legacy Keras optimizer instead, located at `tf.keras.optimizers.legacy.Adam`.\n"
     ]
    },
    {
     "name": "stdout",
     "output_type": "stream",
     "text": [
      "Epoch 1/10\n"
     ]
    },
    {
     "name": "stderr",
     "output_type": "stream",
     "text": [
      "2024-05-02 08:45:43.659918: E tensorflow/core/grappler/optimizers/meta_optimizer.cc:961] model_pruner failed: INVALID_ARGUMENT: Graph does not contain terminal node Adam/AssignAddVariableOp.\n"
     ]
    },
    {
     "name": "stdout",
     "output_type": "stream",
     "text": [
      "44/44 [==============================] - 55s 1s/step - loss: 0.8965 - accuracy: 0.5054 - auc_2: 0.4996 - val_loss: 4.1865 - val_accuracy: 0.4989 - val_auc_2: 0.4949\n",
      "Epoch 2/10\n",
      "44/44 [==============================] - 41s 929ms/step - loss: 0.7337 - accuracy: 0.5126 - auc_2: 0.5126 - val_loss: 2.8571 - val_accuracy: 0.5076 - val_auc_2: 0.5131\n",
      "Epoch 3/10\n",
      "44/44 [==============================] - 41s 924ms/step - loss: 0.7214 - accuracy: 0.4860 - auc_2: 0.5072 - val_loss: 0.6915 - val_accuracy: 0.5097 - val_auc_2: 0.5273\n",
      "Epoch 4/10\n",
      "44/44 [==============================] - 41s 924ms/step - loss: 0.7153 - accuracy: 0.4860 - auc_2: 0.4835 - val_loss: 2.2101 - val_accuracy: 0.4838 - val_auc_2: 0.4532\n",
      "Epoch 5/10\n",
      "44/44 [==============================] - 41s 925ms/step - loss: 0.7012 - accuracy: 0.5133 - auc_2: 0.5055 - val_loss: 1.7634 - val_accuracy: 0.5616 - val_auc_2: 0.5580\n",
      "Epoch 6/10\n",
      "44/44 [==============================] - 41s 938ms/step - loss: 0.7114 - accuracy: 0.5054 - auc_2: 0.5207 - val_loss: 25.9829 - val_accuracy: 0.5011 - val_auc_2: 0.4790\n",
      "Training model with learning rate: 0.01 and batch size: 32\n"
     ]
    },
    {
     "name": "stderr",
     "output_type": "stream",
     "text": [
      "WARNING:absl:At this time, the v2.11+ optimizer `tf.keras.optimizers.Adam` runs slowly on M1/M2 Macs, please use the legacy Keras optimizer instead, located at `tf.keras.optimizers.legacy.Adam`.\n"
     ]
    },
    {
     "name": "stdout",
     "output_type": "stream",
     "text": [
      "Epoch 1/10\n"
     ]
    },
    {
     "name": "stderr",
     "output_type": "stream",
     "text": [
      "2024-05-02 08:50:04.437542: E tensorflow/core/grappler/optimizers/meta_optimizer.cc:961] model_pruner failed: INVALID_ARGUMENT: Graph does not contain terminal node Adam/AssignAddVariableOp.\n"
     ]
    },
    {
     "name": "stdout",
     "output_type": "stream",
     "text": [
      "44/44 [==============================] - 59s 1s/step - loss: 1.5088 - accuracy: 0.5104 - auc_3: 0.5082 - val_loss: 5949255843840.0000 - val_accuracy: 0.4989 - val_auc_3: 0.5000\n",
      "Epoch 2/10\n",
      "44/44 [==============================] - 42s 955ms/step - loss: 0.7929 - accuracy: 0.4824 - auc_3: 0.4737 - val_loss: 685301.1875 - val_accuracy: 0.4989 - val_auc_3: 0.4978\n",
      "Epoch 3/10\n",
      "44/44 [==============================] - 41s 920ms/step - loss: 0.7353 - accuracy: 0.4845 - auc_3: 0.4884 - val_loss: 3438.0950 - val_accuracy: 0.4989 - val_auc_3: 0.5109\n",
      "Epoch 4/10\n",
      "44/44 [==============================] - 41s 926ms/step - loss: 0.7064 - accuracy: 0.4867 - auc_3: 0.4782 - val_loss: 22.9254 - val_accuracy: 0.5464 - val_auc_3: 0.5545\n",
      "Epoch 5/10\n",
      "44/44 [==============================] - 41s 925ms/step - loss: 0.7076 - accuracy: 0.4953 - auc_3: 0.4918 - val_loss: 1.0855 - val_accuracy: 0.5032 - val_auc_3: 0.4800\n",
      "Epoch 6/10\n",
      "44/44 [==============================] - 41s 922ms/step - loss: 0.6999 - accuracy: 0.5054 - auc_3: 0.5033 - val_loss: 0.7502 - val_accuracy: 0.5097 - val_auc_3: 0.5086\n",
      "Epoch 7/10\n",
      "44/44 [==============================] - 41s 923ms/step - loss: 0.7036 - accuracy: 0.5018 - auc_3: 0.4968 - val_loss: 0.7381 - val_accuracy: 0.4860 - val_auc_3: 0.4909\n",
      "Epoch 8/10\n",
      "44/44 [==============================] - 41s 928ms/step - loss: 0.6935 - accuracy: 0.5184 - auc_3: 0.5137 - val_loss: 0.7490 - val_accuracy: 0.5011 - val_auc_3: 0.4997\n",
      "Epoch 9/10\n",
      "44/44 [==============================] - 40s 917ms/step - loss: 0.7021 - accuracy: 0.5004 - auc_3: 0.4771 - val_loss: 0.6959 - val_accuracy: 0.4989 - val_auc_3: 0.4939\n",
      "Epoch 10/10\n",
      "44/44 [==============================] - 41s 929ms/step - loss: 0.6937 - accuracy: 0.5119 - auc_3: 0.5109 - val_loss: 0.6930 - val_accuracy: 0.4989 - val_auc_3: 0.4959\n",
      "Training model with learning rate: 0.01 and batch size: 64\n"
     ]
    },
    {
     "name": "stderr",
     "output_type": "stream",
     "text": [
      "WARNING:absl:At this time, the v2.11+ optimizer `tf.keras.optimizers.Adam` runs slowly on M1/M2 Macs, please use the legacy Keras optimizer instead, located at `tf.keras.optimizers.legacy.Adam`.\n"
     ]
    },
    {
     "name": "stdout",
     "output_type": "stream",
     "text": [
      "Epoch 1/10\n"
     ]
    },
    {
     "name": "stderr",
     "output_type": "stream",
     "text": [
      "2024-05-02 08:57:13.506930: E tensorflow/core/grappler/optimizers/meta_optimizer.cc:961] model_pruner failed: INVALID_ARGUMENT: Graph does not contain terminal node Adam/AssignAddVariableOp.\n"
     ]
    },
    {
     "name": "stdout",
     "output_type": "stream",
     "text": [
      "44/44 [==============================] - 65s 1s/step - loss: 1.8817 - accuracy: 0.5320 - auc_4: 0.5348 - val_loss: 2909672570880.0000 - val_accuracy: 0.5011 - val_auc_4: 0.5000\n",
      "Epoch 2/10\n",
      "44/44 [==============================] - 43s 978ms/step - loss: 1.6347 - accuracy: 0.5112 - auc_4: 0.5207 - val_loss: 97069648.0000 - val_accuracy: 0.5011 - val_auc_4: 0.5000\n",
      "Epoch 3/10\n",
      "44/44 [==============================] - 42s 961ms/step - loss: 1.1492 - accuracy: 0.4932 - auc_4: 0.5069 - val_loss: 44183.8203 - val_accuracy: 0.5011 - val_auc_4: 0.5138\n",
      "Epoch 4/10\n",
      "44/44 [==============================] - 42s 947ms/step - loss: 0.7944 - accuracy: 0.5112 - auc_4: 0.5227 - val_loss: 3.6766 - val_accuracy: 0.5292 - val_auc_4: 0.4987\n",
      "Epoch 5/10\n",
      "44/44 [==============================] - 42s 943ms/step - loss: 0.8099 - accuracy: 0.4824 - auc_4: 0.4828 - val_loss: 1.3432 - val_accuracy: 0.4989 - val_auc_4: 0.4687\n",
      "Epoch 6/10\n",
      "44/44 [==============================] - 42s 946ms/step - loss: 0.8180 - accuracy: 0.4860 - auc_4: 0.4862 - val_loss: 9.9525 - val_accuracy: 0.4989 - val_auc_4: 0.4761\n",
      "Epoch 7/10\n",
      "44/44 [==============================] - 42s 944ms/step - loss: 0.8262 - accuracy: 0.4658 - auc_4: 0.4728 - val_loss: 0.6890 - val_accuracy: 0.5011 - val_auc_4: 0.5065\n",
      "Epoch 8/10\n",
      "44/44 [==============================] - 41s 934ms/step - loss: 0.7976 - accuracy: 0.4896 - auc_4: 0.4820 - val_loss: 0.6890 - val_accuracy: 0.5076 - val_auc_4: 0.5086\n",
      "Epoch 9/10\n",
      "44/44 [==============================] - 41s 938ms/step - loss: 0.7604 - accuracy: 0.5140 - auc_4: 0.4925 - val_loss: 0.7476 - val_accuracy: 0.4989 - val_auc_4: 0.4914\n",
      "Epoch 10/10\n",
      "44/44 [==============================] - 41s 927ms/step - loss: 0.7538 - accuracy: 0.4903 - auc_4: 0.4899 - val_loss: 0.6852 - val_accuracy: 0.5119 - val_auc_4: 0.5129\n"
     ]
    }
   ],
   "source": [
    "# Define hyperparameters\n",
    "learning_rates = [0.001, 0.01]\n",
    "batch_sizes = [32, 64]\n",
    "epochs = 10\n",
    "# Define lists to store models and histories\n",
    "models_list = []\n",
    "histories_list = []\n",
    "hyperparameter_list = []\n",
    "for lr in learning_rates:\n",
    "    for batch_size in batch_sizes:\n",
    "        print(f\"Training model with learning rate: {lr} and batch size: {batch_size}\")\n",
    "        model = create_model2(lr)\n",
    "        history = model.fit(train_generator, validation_data=val_generator, epochs=epochs, batch_size=batch_size, callbacks=[early_stopping])\n",
    "\n",
    "        models_list.append(model)\n",
    "        histories_list.append(history)\n",
    "\n",
    "        # Store hyperparameters for each model\n",
    "        hyperparameters = {'learning_rate': lr, 'batch_size': batch_size}\n",
    "        hyperparameter_list.append(hyperparameters)"
   ]
  },
  {
   "cell_type": "code",
   "execution_count": 15,
   "metadata": {},
   "outputs": [],
   "source": [
    "best_model = None\n",
    "best_accuracy = 0.0\n",
    "best_hyperparameters = None\n",
    "\n",
    "for model, history, hyperparameters in zip(models_list, histories_list, hyperparameter_list):\n",
    "    val_accuracy = history.history['val_accuracy'][-1]  # Get the last validation accuracy\n",
    "\n",
    "    if val_accuracy > best_accuracy:\n",
    "        best_model = model\n",
    "        best_accuracy = val_accuracy\n",
    "        best_hyperparameters = hyperparameters\n",
    "        best_history = history"
   ]
  },
  {
   "cell_type": "code",
   "execution_count": 16,
   "metadata": {},
   "outputs": [
    {
     "name": "stdout",
     "output_type": "stream",
     "text": [
      "Best model hyperparameters:\n",
      "{'learning_rate': 0.01, 'batch_size': 64}\n"
     ]
    }
   ],
   "source": [
    "# Find the index of the best model\n",
    "best_model_index = models_list.index(best_model)\n",
    "\n",
    "# Retrieve the hyperparameters of the best model\n",
    "best_hyperparameters = hyperparameter_list[best_model_index]\n",
    "# Print the results\n",
    "print(\"Best model hyperparameters:\")\n",
    "print(best_hyperparameters)"
   ]
  },
  {
   "cell_type": "code",
   "execution_count": 17,
   "metadata": {},
   "outputs": [
    {
     "name": "stdout",
     "output_type": "stream",
     "text": [
      "15/15 [==============================] - 7s 452ms/step - loss: 0.6814 - accuracy: 0.5194 - auc_4: 0.5194\n",
      "Test Loss: 0.6814479827880859\n",
      "Test Accuracy: 0.5193965435028076\n",
      "Test AUC: 0.5193965435028076\n"
     ]
    }
   ],
   "source": [
    "# Evaluate the best model on the test dataset\n",
    "test_loss, test_accuracy, test_auc = best_model.evaluate(test_generator)\n",
    "\n",
    "print(\"Test Loss:\", test_loss)\n",
    "print(\"Test Accuracy:\", test_accuracy)\n",
    "print(\"Test AUC:\", test_auc)"
   ]
  },
  {
   "cell_type": "code",
   "execution_count": 18,
   "metadata": {},
   "outputs": [
    {
     "name": "stdout",
     "output_type": "stream",
     "text": [
      "15/15 [==============================] - 6s 309ms/step\n"
     ]
    }
   ],
   "source": [
    "from sklearn.metrics import roc_curve, auc\n",
    "# Get true labels of test data\n",
    "test_pred1 = best_model.predict(test_generator)\n",
    "test_true = test_generator.classes\n",
    "# Calculate ROC curve\n",
    "fpr, tpr, thresholds = roc_curve(test_true, test_pred1)\n",
    "#roc_auc = auc(fpr, tpr)\n",
    "\n",
    "# Find optimal threshold\n",
    "optimal_idx = np.argmax(tpr - fpr)\n",
    "optimal_threshold = thresholds[optimal_idx]\n",
    "\n",
    "# Threshold predictions based on optimal threshold\n",
    "test_pred_binary1 = (test_pred1 > optimal_threshold).astype(int)"
   ]
  },
  {
   "cell_type": "code",
   "execution_count": 19,
   "metadata": {},
   "outputs": [],
   "source": [
    "from sklearn.metrics import classification_report# Generate classification report\n",
    "from sklearn.metrics import accuracy_score, precision_score, recall_score, f1_score, roc_auc_score"
   ]
  },
  {
   "cell_type": "code",
   "execution_count": 20,
   "metadata": {},
   "outputs": [
    {
     "name": "stdout",
     "output_type": "stream",
     "text": [
      "Accuracy: 0.4978448275862069\n",
      "Precision: 0.0\n",
      "Recall: 0.0\n",
      "F1 Score: 0.0\n"
     ]
    }
   ],
   "source": [
    "accuracy = accuracy_score(test_true, test_pred_binary1)\n",
    "precision = precision_score(test_true, test_pred_binary1)\n",
    "recall = recall_score(test_true, test_pred_binary1)\n",
    "f1 = f1_score(test_true, test_pred_binary1)\n",
    "\n",
    "\n",
    "print(\"Accuracy:\", accuracy)\n",
    "print(\"Precision:\", precision)\n",
    "print(\"Recall:\", recall)\n",
    "print(\"F1 Score:\", f1)"
   ]
  },
  {
   "cell_type": "code",
   "execution_count": 21,
   "metadata": {},
   "outputs": [
    {
     "data": {
      "image/png": "[encoded data removed]",
      "text/plain": [
       "<Figure size 640x480 with 1 Axes>"
      ]
     },
     "metadata": {},
     "output_type": "display_data"
    },
    {
     "data": {
      "image/png": "[encoded data removed]",
      "text/plain": [
       "<Figure size 640x480 with 1 Axes>"
      ]
     },
     "metadata": {},
     "output_type": "display_data"
    }
   ],
   "source": [
    "def plot_learning(history):\n",
    "    tgts = ['loss', 'accuracy']\n",
    "    vtgts = ['val_loss', 'val_accuracy']\n",
    "\n",
    "    for tgt, val_tgt in zip(tgts, vtgts):\n",
    "        plt.figure()\n",
    "        plt.plot(history.history[tgt], label=tgt)\n",
    "        plt.plot(history.history[val_tgt], label=val_tgt)\n",
    "        plt.xlabel('Epoch')\n",
    "        plt.legend()\n",
    "        plt.title(f\"Training and validation {tgt}\")\n",
    "\n",
    "# Assuming you have found the best model, its corresponding history is stored in best_history\n",
    "plot_learning(best_history)"
   ]
  },
  {
   "cell_type": "code",
   "execution_count": null,
   "metadata": {},
   "outputs": [],
   "source": []
  },
  {
   "cell_type": "code",
   "execution_count": 22,
   "metadata": {},
   "outputs": [],
   "source": [
    "def create_model3(learning_rate):\n",
    "    # Load InceptionV3 base model with pre-trained weights\n",
    "    inceptionv3_base = InceptionV3(weights='imagenet', include_top=False)\n",
    "    # Calculate the index to split the layers\n",
    "    split_index = len(inceptionv3_base.layers) // 2\n",
    "\n",
    "    # Set layers before the split index as frozen and layers after as trainable\n",
    "    for i, layer in enumerate(inceptionv3_base.layers):\n",
    "        if i < split_index:\n",
    "            layer.trainable = False\n",
    "        else:\n",
    "            layer.trainable = True\n",
    "\n",
    "    # Add custom layers on top of the base model\n",
    "    x = inceptionv3_base.output\n",
    "    x = GlobalAveragePooling2D()(x)\n",
    "    x = Dense(256, activation='relu')(x)\n",
    "    x = Dropout(0.5)(x)\n",
    "    predictions = Dense(1, activation='sigmoid')(x)\n",
    "\n",
    "    # Create the model\n",
    "    model = Model(inputs=inceptionv3_base.input, outputs=predictions)\n",
    "\n",
    "    # Compile the model\n",
    "    optimizer = Adam(learning_rate=learning_rate)\n",
    "    model.compile(optimizer=optimizer, loss='binary_crossentropy', metrics=['accuracy', AUC()])\n",
    "\n",
    "    return model"
   ]
  },
  {
   "cell_type": "code",
   "execution_count": 23,
   "metadata": {},
   "outputs": [],
   "source": [
    "# Define hyperparameters\n",
    "learning_rates = [0.001, 0.01]\n",
    "batch_sizes = [32, 64]\n",
    "epochs = 10\n",
    "# Define lists to store models and histories\n",
    "models_list1 = []\n",
    "histories_list1 = []\n",
    "hyperparameter_list1 = []"
   ]
  },
  {
   "cell_type": "code",
   "execution_count": 24,
   "metadata": {},
   "outputs": [
    {
     "name": "stdout",
     "output_type": "stream",
     "text": [
      "Training model with learning rate: 0.001 and batch size: 32\n"
     ]
    },
    {
     "name": "stderr",
     "output_type": "stream",
     "text": [
      "WARNING:absl:At this time, the v2.11+ optimizer `tf.keras.optimizers.Adam` runs slowly on M1/M2 Macs, please use the legacy Keras optimizer instead, located at `tf.keras.optimizers.legacy.Adam`.\n"
     ]
    },
    {
     "name": "stdout",
     "output_type": "stream",
     "text": [
      "Epoch 1/10\n"
     ]
    },
    {
     "ename": "",
     "evalue": "",
     "output_type": "error",
     "traceback": [
      "\u001b[1;31mThe Kernel crashed while executing code in the the current cell or a previous cell. Please review the code in the cell(s) to identify a possible cause of the failure. Click <a href='https://aka.ms/vscodeJupyterKernelCrash'>here</a> for more info. View Jupyter <a href='command:jupyter.viewOutput'>log</a> for further details."
     ]
    }
   ],
   "source": [
    "for lr in learning_rates:\n",
    "    for batch_size in batch_sizes:\n",
    "        print(f\"Training model with learning rate: {lr} and batch size: {batch_size}\")\n",
    "        model1 = create_model3(lr)\n",
    "        history1 = model1.fit(train_generator, validation_data=val_generator, epochs=epochs, batch_size=batch_size, callbacks=[early_stopping])\n",
    "\n",
    "        models_list1.append(model1)\n",
    "        histories_list1.append(history1)\n",
    "\n",
    "        # Store hyperparameters for each model\n",
    "        hyperparameters = {'learning_rate': lr, 'batch_size': batch_size}\n",
    "        hyperparameter_list1.append(hyperparameters)"
   ]
  },
  {
   "cell_type": "code",
   "execution_count": null,
   "metadata": {},
   "outputs": [],
   "source": []
  },
  {
   "cell_type": "code",
   "execution_count": null,
   "metadata": {},
   "outputs": [],
   "source": [
    "best_model = None\n",
    "best_accuracy = 0.0\n",
    "best_hyperparameters = None\n",
    "\n",
    "for model, history, hyperparameters in zip(models_list1, histories_list1, hyperparameter_list1):\n",
    "    val_accuracy = history.history['val_accuracy'][-1]  # Get the last validation accuracy\n",
    "\n",
    "    if val_accuracy > best_accuracy:\n",
    "        best_model = model\n",
    "        best_accuracy = val_accuracy\n",
    "        best_hyperparameters = hyperparameters\n",
    "        best_history = history"
   ]
  },
  {
   "cell_type": "code",
   "execution_count": null,
   "metadata": {},
   "outputs": [],
   "source": [
    "# Find the index of the best model\n",
    "best_model_index = models_list1.index(best_model)\n",
    "\n",
    "# Retrieve the hyperparameters of the best model\n",
    "best_hyperparameters = hyperparameter_list1[best_model_index]\n",
    "# Print the results\n",
    "print(\"Best model hyperparameters:\")\n",
    "print(best_hyperparameters)"
   ]
  },
  {
   "cell_type": "code",
   "execution_count": null,
   "metadata": {},
   "outputs": [],
   "source": [
    "best_model1 = None\n",
    "best_accuracy1 = 0.0\n",
    "best_hyperparameters1 = None\n",
    "\n",
    "for model, history, hyperparameters in zip(models_list1, histories_list1, hyperparameter_list1):\n",
    "    val_accuracy = history.history['val_accuracy'][-1]  # Get the last validation accuracy\n",
    "\n",
    "    if val_accuracy > best_accuracy:\n",
    "        best_model1 = model\n",
    "        best_accuracy1 = val_accuracy\n",
    "        best_hyperparameters1 = hyperparameters\n",
    "        best_history1 = history"
   ]
  },
  {
   "cell_type": "code",
   "execution_count": null,
   "metadata": {},
   "outputs": [],
   "source": [
    "# Evaluate the best model on the test dataset\n",
    "test_loss, test_accuracy, test_auc = best_model.evaluate(test_generator)\n",
    "\n",
    "print(\"Test Loss:\", test_loss)\n",
    "print(\"Test Accuracy:\", test_accuracy)\n",
    "print(\"Test AUC:\", test_auc)"
   ]
  },
  {
   "cell_type": "code",
   "execution_count": null,
   "metadata": {},
   "outputs": [],
   "source": [
    "from sklearn.metrics import roc_curve, auc\n",
    "# Get true labels of test data\n",
    "test_pred1 = best_model.predict(test_generator)\n",
    "test_true = test_generator.classes\n",
    "# Calculate ROC curve\n",
    "fpr, tpr, thresholds = roc_curve(test_true, test_pred1)\n",
    "#roc_auc = auc(fpr, tpr)\n",
    "\n",
    "# Find optimal threshold\n",
    "optimal_idx = np.argmax(tpr - fpr)\n",
    "optimal_threshold = thresholds[optimal_idx]\n",
    "\n",
    "# Threshold predictions based on optimal threshold\n",
    "test_pred_binary1 = (test_pred1 > optimal_threshold).astype(int)"
   ]
  },
  {
   "cell_type": "code",
   "execution_count": null,
   "metadata": {},
   "outputs": [],
   "source": [
    "from sklearn.metrics import classification_report# Generate classification report\n",
    "from sklearn.metrics import accuracy_score, precision_score, recall_score, f1_score, roc_auc_score\n",
    "accuracy2 = accuracy_score(test_true, test_pred_binary1)\n",
    "precision2 = precision_score(test_true, test_pred_binary1)\n",
    "recall2 = recall_score(test_true, test_pred_binary1)\n",
    "f12 = f1_score(test_true, test_pred_binary1)\n",
    "\n",
    "\n",
    "print(\"Accuracy:\", accuracy2)\n",
    "print(\"Precision:\", precision2)\n",
    "print(\"Recall:\", recall2)\n",
    "print(\"F1 Score:\", f12)"
   ]
  },
  {
   "cell_type": "code",
   "execution_count": null,
   "metadata": {},
   "outputs": [],
   "source": [
    "def plot_learning(history):\n",
    "    tgts = ['loss', 'accuracy']\n",
    "    vtgts = ['val_loss', 'val_accuracy']\n",
    "\n",
    "    for tgt, val_tgt in zip(tgts, vtgts):\n",
    "        plt.figure()\n",
    "        plt.plot(history.history[tgt], label=tgt)\n",
    "        plt.plot(history.history[val_tgt], label=val_tgt)\n",
    "        plt.xlabel('Epoch')\n",
    "        plt.legend()\n",
    "        plt.title(f\"Training and validation {tgt}\")\n",
    "\n",
    "# Assuming you have found the best model, its corresponding history is stored in best_history\n",
    "plot_learning(best_history)"
   ]
  }
 ],
 "metadata": {
  "kernelspec": {
   "display_name": "AI_Healthcar",
   "language": "python",
   "name": "python3"
  },
  "language_info": {
   "codemirror_mode": {
    "name": "ipython",
    "version": 3
   },
   "file_extension": ".py",
   "mimetype": "text/x-python",
   "name": "python",
   "nbconvert_exporter": "python",
   "pygments_lexer": "ipython3",
   "version": "3.9.18"
  }
 },
 "nbformat": 4,
 "nbformat_minor": 2
}
